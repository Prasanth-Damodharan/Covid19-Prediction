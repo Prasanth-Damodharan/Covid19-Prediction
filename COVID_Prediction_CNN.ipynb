{
  "nbformat": 4,
  "nbformat_minor": 0,
  "metadata": {
    "colab": {
      "name": "COVID_Prediction_CNN.ipynb",
      "provenance": [],
      "toc_visible": true
    },
    "kernelspec": {
      "name": "python3",
      "display_name": "Python 3"
    },
    "accelerator": "GPU"
  },
  "cells": [
    {
      "cell_type": "markdown",
      "metadata": {
        "id": "95OUJnUb8AO_",
        "colab_type": "text"
      },
      "source": [
        "# COVID-19 Prediction"
      ]
    },
    {
      "cell_type": "markdown",
      "metadata": {
        "id": "sQtHX0KQMDfM",
        "colab_type": "text"
      },
      "source": [
        "*\"\" This Script is used to classify the X-ray Images to identify if the patient is corona Postive or Negative \"\"*\n",
        "\n",
        "**author** = 'Prasanth Damodharan'\n",
        "\n",
        "**email** = 'prasanthdamo@gmail.com'\n",
        "\n"
      ]
    },
    {
      "cell_type": "markdown",
      "metadata": {
        "id": "YLIrRUFhOSwk",
        "colab_type": "text"
      },
      "source": [
        "**Import Packages**"
      ]
    },
    {
      "cell_type": "code",
      "metadata": {
        "id": "tMugoSgYL_tt",
        "colab_type": "code",
        "colab": {}
      },
      "source": [
        "# import the necessary packages\n",
        "from tensorflow.keras.preprocessing.image import ImageDataGenerator\n",
        "from tensorflow.keras.applications import VGG16\n",
        "from tensorflow.keras.layers import AveragePooling2D\n",
        "from tensorflow.keras.layers import Dropout\n",
        "from tensorflow.keras.layers import Flatten\n",
        "from tensorflow.keras.layers import Dense\n",
        "from tensorflow.keras.layers import Input\n",
        "from tensorflow.keras.models import Model\n",
        "from tensorflow.keras.optimizers import Adam\n",
        "from tensorflow.keras.utils import to_categorical\n",
        "from sklearn.preprocessing import LabelBinarizer\n",
        "from sklearn.model_selection import train_test_split\n",
        "from sklearn.metrics import classification_report\n",
        "from sklearn.metrics import confusion_matrix\n",
        "import matplotlib.pyplot as plt\n",
        "import numpy as np\n",
        "import argparse\n",
        "import os\n",
        "from imutils import paths\n",
        "import cv2\n",
        "import seaborn as sns"
      ],
      "execution_count": null,
      "outputs": []
    },
    {
      "cell_type": "code",
      "metadata": {
        "id": "p0Prio92rddE",
        "colab_type": "code",
        "colab": {}
      },
      "source": [
        "imagePaths = list(paths.list_images('/content/drive/My Drive/Xray_500'))"
      ],
      "execution_count": null,
      "outputs": []
    },
    {
      "cell_type": "markdown",
      "metadata": {
        "id": "SaGvAfHB63AW",
        "colab_type": "text"
      },
      "source": [
        "**Fetching images**  "
      ]
    },
    {
      "cell_type": "code",
      "metadata": {
        "id": "mE8Ks0Efrky3",
        "colab_type": "code",
        "colab": {}
      },
      "source": [
        "# grab the list of images from dataset directory, then initialize\n",
        "# the list of data (i.e., images) and class images\n",
        "\n",
        "data = []\n",
        "labels = []\n",
        "# loop over the image paths\n",
        "for imagePath in imagePaths:\n",
        "\t# extract the class label from the filename\n",
        "\tlabel = imagePath.split(os.path.sep)[-2]\n",
        "\t# load the image, swap color channels, and resize it to be a fixed\n",
        "\t# 224x224 pixels while ignoring aspect ratio\n",
        "\timage = cv2.imread(imagePath)\n",
        "\timage = cv2.cvtColor(image, cv2.COLOR_BGR2RGB)\n",
        "\timage = cv2.resize(image, (224, 224))\n",
        "\t# update the data and labels lists, respectively\n",
        "\tdata.append(image)\n",
        "\tlabels.append(label)\n",
        "# convert the data and labels to NumPy arrays while scaling the pixel\n",
        "# intensities to the range [0, 1]\n",
        "data = np.array(data) / 255.0\n",
        "labels = np.array(labels)"
      ],
      "execution_count": null,
      "outputs": []
    },
    {
      "cell_type": "markdown",
      "metadata": {
        "id": "q73FylSC7KTg",
        "colab_type": "text"
      },
      "source": [
        "**Label Encoding**"
      ]
    },
    {
      "cell_type": "code",
      "metadata": {
        "id": "iyvgk9kErk3R",
        "colab_type": "code",
        "colab": {}
      },
      "source": [
        "# perform one-hot encoding on the labels\n",
        "lb = LabelBinarizer()\n",
        "labels = lb.fit_transform(labels)\n",
        "labels = to_categorical(labels)\n",
        "# partition the data into training and testing splits using 80% of\n",
        "# the data for training and the remaining 20% for testing\n",
        "(trainX, testX, trainY, testY) = train_test_split(data, labels,\n",
        "\ttest_size=0.20, stratify=labels, random_state=42)\n",
        "# initialize the training data augmentation object\n",
        "trainAug = ImageDataGenerator(\n",
        "\trotation_range=15,\n",
        "\tfill_mode=\"nearest\")"
      ],
      "execution_count": null,
      "outputs": []
    },
    {
      "cell_type": "markdown",
      "metadata": {
        "id": "5TkDVUHj7QmS",
        "colab_type": "text"
      },
      "source": [
        "**Creating Layers**"
      ]
    },
    {
      "cell_type": "code",
      "metadata": {
        "id": "Kkf7LAegrk7g",
        "colab_type": "code",
        "colab": {
          "base_uri": "https://localhost:8080/",
          "height": 71
        },
        "outputId": "0c491433-cad4-4677-d64b-c06c988929a7"
      },
      "source": [
        "# load the VGG16 network, ensuring the head FC layer sets are left\n",
        "# off\n",
        "baseModel = VGG16(weights=\"imagenet\", include_top=False,\n",
        "\tinput_tensor=Input(shape=(224, 224, 3)))\n",
        "# construct the head of the model that will be placed on top of the\n",
        "# the base model\n",
        "headModel = baseModel.output\n",
        "## Average Pooling: Calculate the average value for each patch on the feature map.\n",
        "## Maximum Pooling (or Max Pooling): Calculate the maximum value for each patch of the feature map.\n",
        "\n",
        "headModel = AveragePooling2D(pool_size=(4, 4))(headModel)\n",
        "\n",
        "## Flattening is converting the data into a 1-dimensional array for inputting it to the next layer.\n",
        "## We flatten the output of the convolutional layers to create a single long feature vector. \n",
        "## And it is connected to the final classification model, which is called a fully-connected layer\n",
        "\n",
        "headModel = Flatten(name=\"flatten\")(headModel)\n",
        "headModel = Dense(64, activation=\"relu\")(headModel)\n",
        "## Drop out used in thinning the density of layer and reduce overfitting\n",
        "headModel = Dropout(0.5)(headModel)\n",
        "headModel = Dense(2, activation=\"sigmoid\")(headModel)\n",
        "# place the head FC model on top of the base model (this will become\n",
        "# the actual model we will train)\n",
        "model = Model(inputs=baseModel.input, outputs=headModel)\n",
        "# loop over all layers in the base model and freeze them so they will\n",
        "# *not* be updated during the first training process\n",
        "for layer in baseModel.layers:\n",
        "\tlayer.trainable = False"
      ],
      "execution_count": null,
      "outputs": [
        {
          "output_type": "stream",
          "text": [
            "Downloading data from https://storage.googleapis.com/tensorflow/keras-applications/vgg16/vgg16_weights_tf_dim_ordering_tf_kernels_notop.h5\n",
            "58892288/58889256 [==============================] - 1s 0us/step\n"
          ],
          "name": "stdout"
        }
      ]
    },
    {
      "cell_type": "markdown",
      "metadata": {
        "id": "pz140jQV7VWe",
        "colab_type": "text"
      },
      "source": [
        "**Initializing CNN Model**"
      ]
    },
    {
      "cell_type": "code",
      "metadata": {
        "id": "Ec-hqp-s8owq",
        "colab_type": "code",
        "colab": {}
      },
      "source": [
        "# Mentioning the  initial learning rate, number of epochs to train for,and batch size\n",
        "\n",
        "INIT_LR = 0.001\n",
        "EPOCHS = 25\n",
        "BS = 8"
      ],
      "execution_count": null,
      "outputs": []
    },
    {
      "cell_type": "code",
      "metadata": {
        "id": "0LOqqtctrk_R",
        "colab_type": "code",
        "colab": {
          "base_uri": "https://localhost:8080/",
          "height": 921
        },
        "outputId": "0cae1b3e-089e-487e-92bd-edfab4154eaa"
      },
      "source": [
        "# compile our model\n",
        "print(\"[INFO] compiling model...\")\n",
        "## decay used in reducing learning rate so that the model does not saturate with the losses\n",
        "opt = Adam(lr=INIT_LR, decay=INIT_LR / EPOCHS)\n",
        "model.compile(loss=\"binary_crossentropy\",optimizer=opt,\n",
        "\tmetrics=[\"accuracy\"])\n",
        "# train the head of the network\n",
        "print(\"[INFO] training head...\")\n",
        "#Total number of steps (batches of samples) to yield from generator before declaring one epoch finished and starting the next epoch. \n",
        "\n",
        "H = model.fit(\n",
        "    trainAug.flow(trainX, trainY, batch_size=BS),\n",
        "\t\tsteps_per_epoch=len(trainX) // BS,\n",
        "\t\tvalidation_data=(testX, testY),\n",
        "\t\tvalidation_steps=len(testX) // BS,\n",
        "\t\tepochs=EPOCHS)"
      ],
      "execution_count": null,
      "outputs": [
        {
          "output_type": "stream",
          "text": [
            "[INFO] compiling model...\n",
            "[INFO] training head...\n",
            "Epoch 1/25\n",
            "100/100 [==============================] - 10s 105ms/step - loss: 0.6406 - accuracy: 0.6587 - val_loss: 0.5454 - val_accuracy: 0.8050\n",
            "Epoch 2/25\n",
            "100/100 [==============================] - 10s 102ms/step - loss: 0.4984 - accuracy: 0.8050 - val_loss: 0.4430 - val_accuracy: 0.8250\n",
            "Epoch 3/25\n",
            "100/100 [==============================] - 10s 102ms/step - loss: 0.4315 - accuracy: 0.8438 - val_loss: 0.4061 - val_accuracy: 0.8250\n",
            "Epoch 4/25\n",
            "100/100 [==============================] - 10s 103ms/step - loss: 0.3775 - accuracy: 0.8438 - val_loss: 0.3505 - val_accuracy: 0.8800\n",
            "Epoch 5/25\n",
            "100/100 [==============================] - 10s 103ms/step - loss: 0.3349 - accuracy: 0.8625 - val_loss: 0.3437 - val_accuracy: 0.8450\n",
            "Epoch 6/25\n",
            "100/100 [==============================] - 10s 103ms/step - loss: 0.3136 - accuracy: 0.8737 - val_loss: 0.3051 - val_accuracy: 0.8750\n",
            "Epoch 7/25\n",
            "100/100 [==============================] - 10s 104ms/step - loss: 0.2866 - accuracy: 0.8838 - val_loss: 0.3281 - val_accuracy: 0.8900\n",
            "Epoch 8/25\n",
            "100/100 [==============================] - 10s 103ms/step - loss: 0.2564 - accuracy: 0.9013 - val_loss: 0.3206 - val_accuracy: 0.9000\n",
            "Epoch 9/25\n",
            "100/100 [==============================] - 10s 104ms/step - loss: 0.2542 - accuracy: 0.9062 - val_loss: 0.2703 - val_accuracy: 0.8950\n",
            "Epoch 10/25\n",
            "100/100 [==============================] - 10s 104ms/step - loss: 0.2489 - accuracy: 0.9087 - val_loss: 0.2739 - val_accuracy: 0.9050\n",
            "Epoch 11/25\n",
            "100/100 [==============================] - 10s 104ms/step - loss: 0.2320 - accuracy: 0.9038 - val_loss: 0.2742 - val_accuracy: 0.9000\n",
            "Epoch 12/25\n",
            "100/100 [==============================] - 10s 105ms/step - loss: 0.2353 - accuracy: 0.9125 - val_loss: 0.2408 - val_accuracy: 0.9000\n",
            "Epoch 13/25\n",
            "100/100 [==============================] - 10s 105ms/step - loss: 0.2154 - accuracy: 0.9287 - val_loss: 0.2407 - val_accuracy: 0.9000\n",
            "Epoch 14/25\n",
            "100/100 [==============================] - 10s 104ms/step - loss: 0.2087 - accuracy: 0.9225 - val_loss: 0.2775 - val_accuracy: 0.9100\n",
            "Epoch 15/25\n",
            "100/100 [==============================] - 10s 104ms/step - loss: 0.1861 - accuracy: 0.9400 - val_loss: 0.2270 - val_accuracy: 0.9100\n",
            "Epoch 16/25\n",
            "100/100 [==============================] - 10s 104ms/step - loss: 0.1945 - accuracy: 0.9325 - val_loss: 0.2242 - val_accuracy: 0.9150\n",
            "Epoch 17/25\n",
            "100/100 [==============================] - 10s 104ms/step - loss: 0.1950 - accuracy: 0.9312 - val_loss: 0.2366 - val_accuracy: 0.9050\n",
            "Epoch 18/25\n",
            "100/100 [==============================] - 10s 104ms/step - loss: 0.1601 - accuracy: 0.9375 - val_loss: 0.2197 - val_accuracy: 0.9200\n",
            "Epoch 19/25\n",
            "100/100 [==============================] - 10s 104ms/step - loss: 0.1785 - accuracy: 0.9275 - val_loss: 0.2178 - val_accuracy: 0.9150\n",
            "Epoch 20/25\n",
            "100/100 [==============================] - 10s 104ms/step - loss: 0.1671 - accuracy: 0.9350 - val_loss: 0.2261 - val_accuracy: 0.9150\n",
            "Epoch 21/25\n",
            "100/100 [==============================] - 10s 104ms/step - loss: 0.1607 - accuracy: 0.9362 - val_loss: 0.2389 - val_accuracy: 0.9050\n",
            "Epoch 22/25\n",
            "100/100 [==============================] - 10s 104ms/step - loss: 0.1580 - accuracy: 0.9525 - val_loss: 0.2171 - val_accuracy: 0.9200\n",
            "Epoch 23/25\n",
            "100/100 [==============================] - 10s 104ms/step - loss: 0.1581 - accuracy: 0.9413 - val_loss: 0.2011 - val_accuracy: 0.9250\n",
            "Epoch 24/25\n",
            "100/100 [==============================] - 10s 103ms/step - loss: 0.1547 - accuracy: 0.9500 - val_loss: 0.1995 - val_accuracy: 0.9250\n",
            "Epoch 25/25\n",
            "100/100 [==============================] - 10s 103ms/step - loss: 0.1450 - accuracy: 0.9488 - val_loss: 0.1920 - val_accuracy: 0.9350\n"
          ],
          "name": "stdout"
        }
      ]
    },
    {
      "cell_type": "markdown",
      "metadata": {
        "id": "FPnZDX9K7c4q",
        "colab_type": "text"
      },
      "source": [
        "**Predicting Test Data**"
      ]
    },
    {
      "cell_type": "code",
      "metadata": {
        "id": "_v9WUe08rlCr",
        "colab_type": "code",
        "colab": {
          "base_uri": "https://localhost:8080/",
          "height": 187
        },
        "outputId": "ca10f9da-43d9-4517-bf09-6ac5d6d1c62a"
      },
      "source": [
        "# make predictions on the testing set\n",
        "print(\"[INFO] evaluating network...\")\n",
        "predIdxs = model.predict(testX, batch_size=BS)\n",
        "# for each image in the testing set we need to find the index of the\n",
        "# Find label with corresponding largest predicted probability\n",
        "predIdxs = np.argmax(predIdxs, axis=1)\n",
        "# classification report\n",
        "print(classification_report(testY.argmax(axis=1), predIdxs,\n",
        "\ttarget_names=lb.classes_))"
      ],
      "execution_count": null,
      "outputs": [
        {
          "output_type": "stream",
          "text": [
            "[INFO] evaluating network...\n",
            "              precision    recall  f1-score   support\n",
            "\n",
            "    negative       0.91      0.96      0.94       100\n",
            "    positive       0.96      0.91      0.93       100\n",
            "\n",
            "    accuracy                           0.94       200\n",
            "   macro avg       0.94      0.94      0.93       200\n",
            "weighted avg       0.94      0.94      0.93       200\n",
            "\n"
          ],
          "name": "stdout"
        }
      ]
    },
    {
      "cell_type": "code",
      "metadata": {
        "id": "JstsztVDrlGL",
        "colab_type": "code",
        "colab": {
          "base_uri": "https://localhost:8080/",
          "height": 102
        },
        "outputId": "f0966c60-ee90-49df-f58b-d51af7060d0b"
      },
      "source": [
        "# compute the confusion matrix and and use it to derive the raw\n",
        "# accuracy, sensitivity, and specificity\n",
        "cm = confusion_matrix(testY.argmax(axis=1), predIdxs)\n",
        "total = sum(sum(cm))\n",
        "acc = (cm[0, 0] + cm[1, 1]) / total\n",
        "sensitivity = cm[0, 0] / (cm[0, 0] + cm[0, 1])\n",
        "specificity = cm[1, 1] / (cm[1, 0] + cm[1, 1])\n",
        "# show the confusion matrix, accuracy, sensitivity, and specificity\n",
        "print(cm)\n",
        "print(\"acc: {:.4f}\".format(acc))\n",
        "print(\"sensitivity: {:.4f}\".format(sensitivity))\n",
        "print(\"specificity: {:.4f}\".format(specificity))"
      ],
      "execution_count": null,
      "outputs": [
        {
          "output_type": "stream",
          "text": [
            "[[96  4]\n",
            " [ 9 91]]\n",
            "acc: 0.9350\n",
            "sensitivity: 0.9600\n",
            "specificity: 0.9100\n"
          ],
          "name": "stdout"
        }
      ]
    },
    {
      "cell_type": "markdown",
      "metadata": {
        "id": "at-CM1lDOsXF",
        "colab_type": "text"
      },
      "source": [
        "**Confusion Matrix**"
      ]
    },
    {
      "cell_type": "code",
      "metadata": {
        "id": "Xo1Plx9LlDOL",
        "colab_type": "code",
        "colab": {
          "base_uri": "https://localhost:8080/",
          "height": 282
        },
        "outputId": "75abf3ed-cf6a-4fdd-8a68-3812cf849040"
      },
      "source": [
        "sns.heatmap(cm, annot=True)"
      ],
      "execution_count": null,
      "outputs": [
        {
          "output_type": "execute_result",
          "data": {
            "text/plain": [
              "<matplotlib.axes._subplots.AxesSubplot at 0x7fe12bf1cf98>"
            ]
          },
          "metadata": {
            "tags": []
          },
          "execution_count": 11
        },
        {
          "output_type": "display_data",
          "data": {
            "image/png": "[encoded data removed]",
            "text/plain": [
              "<Figure size 432x288 with 2 Axes>"
            ]
          },
          "metadata": {
            "tags": [],
            "needs_background": "light"
          }
        }
      ]
    },
    {
      "cell_type": "markdown",
      "metadata": {
        "id": "pWEiQjjd7mIg",
        "colab_type": "text"
      },
      "source": [
        "**Plotting Accuracy & Loss**"
      ]
    },
    {
      "cell_type": "code",
      "metadata": {
        "id": "2gcr619grlJm",
        "colab_type": "code",
        "colab": {
          "base_uri": "https://localhost:8080/",
          "height": 316
        },
        "outputId": "2367d5e9-0600-4b2a-bac7-302bbbbd0674"
      },
      "source": [
        "N = EPOCHS\n",
        "plt.style.use(\"ggplot\")\n",
        "plt.figure()\n",
        "plt.plot(np.arange(0, N), H.history[\"loss\"], label=\"train_loss\")\n",
        "plt.plot(np.arange(0, N), H.history[\"val_loss\"], label=\"val_loss\")\n",
        "plt.plot(np.arange(0, N), H.history[\"accuracy\"], label=\"train_acc\")\n",
        "plt.plot(np.arange(0, N), H.history[\"val_accuracy\"], label=\"val_acc\")\n",
        "plt.title(\"Training Loss and Accuracy on COVID-19 Dataset\")\n",
        "plt.xlabel(\"Epoch #\")\n",
        "plt.ylabel(\"Loss/Accuracy\")\n",
        "plt.legend(loc=\"lower left\")\n"
      ],
      "execution_count": null,
      "outputs": [
        {
          "output_type": "execute_result",
          "data": {
            "text/plain": [
              "<matplotlib.legend.Legend at 0x7fe12bf0b9e8>"
            ]
          },
          "metadata": {
            "tags": []
          },
          "execution_count": 13
        },
        {
          "output_type": "display_data",
          "data": {
            "image/png": "[encoded data removed]",
            "text/plain": [
              "<Figure size 432x288 with 1 Axes>"
            ]
          },
          "metadata": {
            "tags": []
          }
        }
      ]
    },
    {
      "cell_type": "markdown",
      "metadata": {
        "id": "Uujc8JPJ7rcK",
        "colab_type": "text"
      },
      "source": [
        "**Remarks**:\n",
        "- On plotting the confusion matrix , the number of False Negative cases were found to be 9. Since this is a medical experiment, the False Negative cases needs to be handled carefully.\n",
        "- Therefore the user is suggested to run the model thrice and the majority of the three results for a X-ray image should be considered as the result.\n"
      ]
    }
  ]
}